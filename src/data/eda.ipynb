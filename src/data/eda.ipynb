{
 "cells": [
  {
   "cell_type": "code",
   "execution_count": 5,
   "id": "8d6bd557",
   "metadata": {},
   "outputs": [
    {
     "name": "stdout",
     "output_type": "stream",
     "text": [
      "Requirement already satisfied: pandas in /Users/sirishag/Documents/fall-2025-group8/.venv/lib/python3.13/site-packages (2.3.2)\n",
      "Requirement already satisfied: numpy>=1.26.0 in /Users/sirishag/Documents/fall-2025-group8/.venv/lib/python3.13/site-packages (from pandas) (2.3.3)\n",
      "Requirement already satisfied: python-dateutil>=2.8.2 in /Users/sirishag/Documents/fall-2025-group8/.venv/lib/python3.13/site-packages (from pandas) (2.9.0.post0)\n",
      "Requirement already satisfied: pytz>=2020.1 in /Users/sirishag/Documents/fall-2025-group8/.venv/lib/python3.13/site-packages (from pandas) (2025.2)\n",
      "Requirement already satisfied: tzdata>=2022.7 in /Users/sirishag/Documents/fall-2025-group8/.venv/lib/python3.13/site-packages (from pandas) (2025.2)\n",
      "Requirement already satisfied: six>=1.5 in /Users/sirishag/Documents/fall-2025-group8/.venv/lib/python3.13/site-packages (from python-dateutil>=2.8.2->pandas) (1.17.0)\n",
      "Collecting matplotlib\n",
      "  Downloading matplotlib-3.10.6-cp313-cp313-macosx_11_0_arm64.whl.metadata (11 kB)\n",
      "Collecting contourpy>=1.0.1 (from matplotlib)\n",
      "  Using cached contourpy-1.3.3-cp313-cp313-macosx_11_0_arm64.whl.metadata (5.5 kB)\n",
      "Collecting cycler>=0.10 (from matplotlib)\n",
      "  Using cached cycler-0.12.1-py3-none-any.whl.metadata (3.8 kB)\n",
      "Collecting fonttools>=4.22.0 (from matplotlib)\n",
      "  Downloading fonttools-4.60.0-cp313-cp313-macosx_10_13_universal2.whl.metadata (111 kB)\n",
      "Collecting kiwisolver>=1.3.1 (from matplotlib)\n",
      "  Downloading kiwisolver-1.4.9-cp313-cp313-macosx_11_0_arm64.whl.metadata (6.3 kB)\n",
      "Requirement already satisfied: numpy>=1.23 in /Users/sirishag/Documents/fall-2025-group8/.venv/lib/python3.13/site-packages (from matplotlib) (2.3.3)\n",
      "Requirement already satisfied: packaging>=20.0 in /Users/sirishag/Documents/fall-2025-group8/.venv/lib/python3.13/site-packages (from matplotlib) (25.0)\n",
      "Collecting pillow>=8 (from matplotlib)\n",
      "  Using cached pillow-11.3.0-cp313-cp313-macosx_11_0_arm64.whl.metadata (9.0 kB)\n",
      "Collecting pyparsing>=2.3.1 (from matplotlib)\n",
      "  Downloading pyparsing-3.2.5-py3-none-any.whl.metadata (5.0 kB)\n",
      "Requirement already satisfied: python-dateutil>=2.7 in /Users/sirishag/Documents/fall-2025-group8/.venv/lib/python3.13/site-packages (from matplotlib) (2.9.0.post0)\n",
      "Requirement already satisfied: six>=1.5 in /Users/sirishag/Documents/fall-2025-group8/.venv/lib/python3.13/site-packages (from python-dateutil>=2.7->matplotlib) (1.17.0)\n",
      "Downloading matplotlib-3.10.6-cp313-cp313-macosx_11_0_arm64.whl (8.1 MB)\n",
      "\u001b[2K   \u001b[90m━━━━━━━━━━━━━━━━━━━━━━━━━━━━━━━━━━━━━━━━\u001b[0m \u001b[32m8.1/8.1 MB\u001b[0m \u001b[31m34.1 MB/s\u001b[0m  \u001b[33m0:00:00\u001b[0m eta \u001b[36m0:00:01\u001b[0m\n",
      "\u001b[?25hUsing cached contourpy-1.3.3-cp313-cp313-macosx_11_0_arm64.whl (274 kB)\n",
      "Using cached cycler-0.12.1-py3-none-any.whl (8.3 kB)\n",
      "Downloading fonttools-4.60.0-cp313-cp313-macosx_10_13_universal2.whl (2.8 MB)\n",
      "\u001b[2K   \u001b[90m━━━━━━━━━━━━━━━━━━━━━━━━━━━━━━━━━━━━━━━━\u001b[0m \u001b[32m2.8/2.8 MB\u001b[0m \u001b[31m64.8 MB/s\u001b[0m  \u001b[33m0:00:00\u001b[0m\n",
      "\u001b[?25hDownloading kiwisolver-1.4.9-cp313-cp313-macosx_11_0_arm64.whl (64 kB)\n",
      "Using cached pillow-11.3.0-cp313-cp313-macosx_11_0_arm64.whl (4.7 MB)\n",
      "Downloading pyparsing-3.2.5-py3-none-any.whl (113 kB)\n",
      "Installing collected packages: pyparsing, pillow, kiwisolver, fonttools, cycler, contourpy, matplotlib\n",
      "\u001b[2K   \u001b[90m━━━━━━━━━━━━━━━━━━━━━━━━━━━━━━━━━━━━━━━━\u001b[0m \u001b[32m7/7\u001b[0m [matplotlib]7\u001b[0m [matplotlib]\n",
      "\u001b[1A\u001b[2KSuccessfully installed contourpy-1.3.3 cycler-0.12.1 fonttools-4.60.0 kiwisolver-1.4.9 matplotlib-3.10.6 pillow-11.3.0 pyparsing-3.2.5\n"
     ]
    }
   ],
   "source": [
    "!pip install pandas\n",
    "\n",
    "! pip install matplotlib"
   ]
  },
  {
   "cell_type": "code",
   "execution_count": 6,
   "id": "d07c60c5",
   "metadata": {},
   "outputs": [],
   "source": [
    "import os, re, math\n",
    "from pathlib import Path\n",
    "import pandas as pd\n",
    "import numpy as np\n",
    "import matplotlib.pyplot as plt\n"
   ]
  },
  {
   "cell_type": "markdown",
   "id": "b2f1c4b4",
   "metadata": {},
   "source": [
    "Loads sales data and nutrition data.\n",
    "\n",
    "Creates an eda_outputs/ folder to save all cleaned outputs and issue reports."
   ]
  },
  {
   "cell_type": "code",
   "execution_count": 7,
   "id": "abfb496e",
   "metadata": {},
   "outputs": [],
   "source": [
    "SALES_CSV = \"/Users/sirishag/Documents/fall-2025-group8/src/data/sales.csv\"\n",
    "NUTR_CSV  = \"/Users/sirishag/Documents/fall-2025-group8/src/data/nutrition items.csv\"\n",
    "OUT_DIR   = \"/Users/sirishag/Documents/fall-2025-group8/src/data/eda_outputs\"\n",
    "Path(OUT_DIR).mkdir(parents=True, exist_ok=True)\n"
   ]
  },
  {
   "cell_type": "code",
   "execution_count": 8,
   "id": "4bc6fe5d",
   "metadata": {},
   "outputs": [],
   "source": [
    "sales = pd.read_csv(SALES_CSV)\n",
    "nutr  = pd.read_csv(NUTR_CSV)\n"
   ]
  },
  {
   "cell_type": "markdown",
   "id": "f1f9c66f",
   "metadata": {},
   "source": [
    "Removes unit columns (Calories_Unit, etc.) since they are redundant.\n",
    "\n",
    "Cleans whitespace and missing text from sales descriptions."
   ]
  },
  {
   "cell_type": "code",
   "execution_count": 9,
   "id": "8fae5379",
   "metadata": {},
   "outputs": [
    {
     "name": "stdout",
     "output_type": "stream",
     "text": [
      "Sales shape: (224536, 19) | Nutrition shape: (1298648, 40)\n"
     ]
    }
   ],
   "source": [
    "nutr.columns = nutr.columns.str.strip()\n",
    "nutr = nutr.drop(columns=[c for c in nutr.columns if c.endswith(\"_Unit\")], errors=\"ignore\")\n",
    "sales[\"description\"] = sales[\"description\"].astype(str).fillna(\"\").str.strip()\n",
    "\n",
    "print(f\"Sales shape: {sales.shape} | Nutrition shape: {nutr.shape}\")"
   ]
  },
  {
   "cell_type": "markdown",
   "id": "1df3097c",
   "metadata": {},
   "source": [
    "Converts text to lowercase, removes symbols, standardizes things like w/ → with.\n",
    "\n",
    "Uses keyword rules to tag items (e.g., “Honey Nut Cheerios” → category cereal).\n",
    "\n",
    "Helps group generic sales items like “CEREAL MEAL” with their detailed recipe variants."
   ]
  },
  {
   "cell_type": "code",
   "execution_count": 10,
   "id": "13649bf0",
   "metadata": {},
   "outputs": [],
   "source": [
    "\n",
    "# ---------- HELPERS ----------\n",
    "def norm(s: str) -> str:\n",
    "    if pd.isna(s): return \"\"\n",
    "    s = str(s).lower().replace(\"&\",\" and \")\n",
    "    s = re.sub(r\"\\bw\\/\\b\",\" with \", s)   # w/ -> with\n",
    "    s = re.sub(r\"\\/\",\" \", s)             # \"/\" -> space\n",
    "    s = re.sub(r\"[^a-z0-9\\s%+]\", \" \", s) # keep %, +\n",
    "    return re.sub(r\"\\s+\", \" \", s).strip()\n",
    "\n",
    "CATEGORY_RULES = {\n",
    "    \"cereal\": [\"cereal\",\"cheerios\",\"chex\",\"toast crunch\",\"kix\",\"krispies\",\"corn flakes\",\"raisin bran\"],\n",
    "    \"bagel\": [\"bagel\"],\n",
    "    \"cream_cheese\": [\"cream cheese\"],\n",
    "    \"parfait\": [\"parfait\"],\n",
    "    \"milk\": [\"milk\",\"1%\",\"one percent\",\"fat free\",\"lowfat\",\"chocolate milk\"],\n",
    "    \"juice\": [\"juice\",\"apple juice\",\"orange juice\",\"grape juice\"],\n",
    "    \"fruit\": [\"apple\",\"banana\",\"orange\",\"mandarin\",\"clementine\",\"grape\",\"pear\",\"peach\",\"pineapple\",\"berries\",\"fruit\"],\n",
    "    \"biscuit\": [\"biscuit\"],\n",
    "    \"muffin\": [\"muffin\"],\n",
    "    \"egg\": [\"egg\"],\n",
    "    \"cheese\": [\"cheese\",\"american cheese\",\"string cheese\",\"cream cheese\"],\n",
    "    \"yogurt\": [\"yogurt\"],\n",
    "    \"bread\": [\"bread\",\"muffin top\",\"english muffin\"],\n",
    "    \"pancake\": [\"pancake\",\"waffle\",\"french toast\"],\n",
    "    \"sausage\": [\"sausage\"],\n",
    "    \"sandwich\": [\"sandwich\",\"burger\",\"hot dog\"],\n",
    "    \"water\": [\"water\",\"bottled water\"],\n",
    "    \"cookie\": [\"cookie\",\"cookies\"],\n",
    "    \"chips\": [\"chips\",\"crisps\"],\n",
    "    \"pasta\": [\"pasta\",\"penne\",\"spaghetti\",\"alfredo\",\"mac\",\"lasagna\"],\n",
    "    \"rice\": [\"rice\"],\n",
    "    \"entree\": [\"tenders\",\"meatball\",\"nacho\",\"taco\",\"burrito\",\"corn dog\",\"orange chicken\",\"chicken\"]\n",
    "}\n",
    "def tag_categories(text: str) -> set:\n",
    "    t = norm(text); cats=set()\n",
    "    for cat,kws in CATEGORY_RULES.items():\n",
    "        for kw in kws:\n",
    "            if re.search(rf\"\\b{re.escape(kw)}\\b\", t):\n",
    "                cats.add(cat); break\n",
    "    return cats or {\"uncategorized\"}"
   ]
  },
  {
   "cell_type": "markdown",
   "id": "0094ab7e",
   "metadata": {},
   "source": [
    "Counts unique sales vs. nutrition items → saved to summary_counts.csv.\n",
    "\n",
    "Also saves top 25 sales items by total sales."
   ]
  },
  {
   "cell_type": "code",
   "execution_count": 11,
   "id": "148eba48",
   "metadata": {},
   "outputs": [
    {
     "name": "stdout",
     "output_type": "stream",
     "text": [
      "{'unique_sales_items': 160, 'unique_recipes': 405}\n"
     ]
    }
   ],
   "source": [
    "# ---------- PART A: Uniques & overlaps ----------\n",
    "summary = {\n",
    "    \"unique_sales_items\": int(sales[\"description\"].nunique()),\n",
    "    \"unique_recipes\": int(nutr[\"RecipeName\"].nunique())\n",
    "}\n",
    "pd.DataFrame([summary]).to_csv(Path(OUT_DIR)/\"summary_counts.csv\", index=False)\n",
    "print(summary)\n",
    "\n",
    "if \"total\" in sales.columns:\n",
    "    top_sales = (sales.groupby(\"description\", as_index=False)[\"total\"].sum()\n",
    "                      .sort_values(\"total\", ascending=False).head(25))\n",
    "    top_sales.to_csv(Path(OUT_DIR)/\"top_sales_items.csv\", index=False)\n"
   ]
  },
  {
   "cell_type": "markdown",
   "id": "2adb4e7c",
   "metadata": {},
   "source": [
    "Adds normalized name, token sets, and categories to nutrition data.\n",
    "\n",
    "Same is done for sales items.\n",
    "\n",
    "This helps later when comparing/mapping between datasets."
   ]
  },
  {
   "cell_type": "code",
   "execution_count": 12,
   "id": "ec9e84d5",
   "metadata": {},
   "outputs": [],
   "source": [
    "# ---------- Normalize / tokens / categories ----------\n",
    "nutr[\"_name_norm\"] = nutr[\"RecipeName\"].apply(norm)\n",
    "nutr[\"_tok\"]       = nutr[\"_name_norm\"].str.split().apply(set)\n",
    "nutr[\"_cat\"]       = nutr[\"RecipeName\"].apply(tag_categories)\n",
    "\n",
    "sales_u = (sales.groupby(\"description\", as_index=False)[\"total\"].sum()\n",
    "               .rename(columns={\"description\":\"sales_item\",\"total\":\"sales_volume\"}))\n",
    "sales_u[\"name_norm\"]  = sales_u[\"sales_item\"].apply(norm)\n",
    "sales_u[\"token_set\"]  = sales_u[\"name_norm\"].str.split().apply(set)\n",
    "sales_u[\"categories\"] = sales_u[\"sales_item\"].apply(tag_categories)\n",
    "sales_u.sort_values(\"sales_volume\", ascending=False).head(30).to_csv(Path(OUT_DIR)/\"sales_items_with_cats.csv\", index=False)\n"
   ]
  },
  {
   "cell_type": "markdown",
   "id": "416d85ca",
   "metadata": {},
   "source": [
    "Focuses on “generic” categories that appear in sales but map to multiple recipes.\n",
    "\n",
    "For each group, computes min/median/max for nutrients like Calories, Protein, Fat.\n",
    "\n",
    "Saves results into CSVs (recipes_cereal.csv, recipes_bagel.csv, etc.).\n",
    "\n",
    "Also plots Calories ranges across groups (quick visual check)."
   ]
  },
  {
   "cell_type": "code",
   "execution_count": 13,
   "id": "2b2c1b51",
   "metadata": {},
   "outputs": [],
   "source": [
    "# ---------- PART B: Generic mapping exploration ----------\n",
    "GENERIC_SALES_KEYS = [\"cereal\", \"bagel\", \"milk\", \"juice\", \"parfait\"]\n",
    "\n",
    "def nutrient_stats(df, label):\n",
    "    cols = [c for c in [\"Calories\",\"Protein\",\"Total Fat\",\"Total Sugars\",\"Total Carbohydrate\"] if c in df.columns]\n",
    "    if not cols: return pd.DataFrame()\n",
    "    stat = df[cols].agg([\"count\",\"min\",\"median\",\"max\"]).T\n",
    "    stat.insert(0, \"metric\", stat.index)\n",
    "    stat.insert(0, \"group\", label)\n",
    "    return stat.reset_index(drop=True)\n",
    "\n",
    "all_stats = []\n",
    "for key in GENERIC_SALES_KEYS:\n",
    "    recipes = nutr[nutr[\"_cat\"].apply(lambda s: key in s if isinstance(s,set) else False)].copy()\n",
    "    if recipes.empty: \n",
    "        continue\n",
    "    stat = nutrient_stats(recipes, key.upper())\n",
    "    all_stats.append(stat)\n",
    "    recipes_out = recipes[[\"RecipeName\",\"ServingSize\",\"GramsPerServing\",\"Calories\",\"Protein\",\"Total Fat\",\"Total Sugars\",\"Total Carbohydrate\"]]\n",
    "    recipes_out.to_csv(Path(OUT_DIR)/f\"recipes_{key}.csv\", index=False)\n",
    "\n",
    "stats_tbl = pd.concat(all_stats, ignore_index=True) if all_stats else pd.DataFrame()\n",
    "stats_tbl.to_csv(Path(OUT_DIR)/\"generic_groups_stats.csv\", index=False)\n"
   ]
  },
  {
   "cell_type": "code",
   "execution_count": 14,
   "id": "ece5c38f",
   "metadata": {},
   "outputs": [
    {
     "data": {
      "image/png": "[encoded data removed]",
      "text/plain": [
       "<Figure size 800x400 with 1 Axes>"
      ]
     },
     "metadata": {},
     "output_type": "display_data"
    }
   ],
   "source": [
    "# Quick min/median/max plot for Calories across selected groups\n",
    "if not stats_tbl.empty and \"Calories\" in nutr.columns:\n",
    "    by_grp = []\n",
    "    for key in GENERIC_SALES_KEYS:\n",
    "        recs = nutr[nutr[\"_cat\"].apply(lambda s: key in s if isinstance(s,set) else False)]\n",
    "        if recs.empty: continue\n",
    "        cal = pd.to_numeric(recs[\"Calories\"], errors=\"coerce\").dropna()\n",
    "        if cal.empty: continue\n",
    "        by_grp.append((key.upper(), cal.min(), cal.median(), cal.max()))\n",
    "    if by_grp:\n",
    "        labels, mins, meds, maxs = zip(*by_grp)\n",
    "        fig = plt.figure(figsize=(8,4))\n",
    "        x = np.arange(len(labels))\n",
    "        plt.plot(x, mins, marker=\"o\", label=\"Min\")\n",
    "        plt.plot(x, meds, marker=\"o\", label=\"Median\")\n",
    "        plt.plot(x, maxs, marker=\"o\", label=\"Max\")\n",
    "        plt.title(\"Calories range by generic category\")\n",
    "        plt.xticks(x, labels); plt.legend(); plt.tight_layout(); plt.show()"
   ]
  },
  {
   "cell_type": "markdown",
   "id": "5526265f",
   "metadata": {},
   "source": [
    "Several issue detectors are built:\n",
    "\n",
    "-Missing values: Counts NaNs for nutrients.\n",
    "\n",
    "-Unrealistic serving sizes: Flags GramsPerServing > 2000.\n",
    "\n",
    "-Zero grams but positive nutrients: Impossible entries (e.g., 0g Coke with 100 calories).\n",
    "\n",
    "-Duplicate recipe names: Same recipe name but different nutrition profiles.\n",
    "\n",
    "Each issue is saved as a CSV in eda_outputs/."
   ]
  },
  {
   "cell_type": "code",
   "execution_count": 15,
   "id": "eaf71ed1",
   "metadata": {},
   "outputs": [],
   "source": [
    "# ---------- PART C: Data quality checks (CLEANING FOCUSED) ----------\n",
    "issues = {}\n",
    "\n",
    "nutr_cols_all = [\"GramsPerServing\",\"Calories\",\"Protein\",\"Total Fat\",\"Saturated Fat\",\"Trans Fat\",\n",
    "                 \"Total Carbohydrate\",\"Dietary Fiber\",\"Total Sugars\",\"Added Sugars\",\"Sodium\",\"Cholesterol\"]\n",
    "present = [c for c in nutr_cols_all if c in nutr.columns]\n"
   ]
  },
  {
   "cell_type": "code",
   "execution_count": 16,
   "id": "3e908a24",
   "metadata": {},
   "outputs": [],
   "source": [
    "# Missing counts\n",
    "miss = nutr[present].apply(pd.to_numeric, errors=\"coerce\").isna().sum().sort_values(ascending=False)\n",
    "issues[\"missing_counts\"] = miss\n"
   ]
  },
  {
   "cell_type": "code",
   "execution_count": 17,
   "id": "f9a4abd4",
   "metadata": {},
   "outputs": [],
   "source": [
    "# Unrealistic grams\n",
    "if \"GramsPerServing\" in nutr.columns:\n",
    "    nutr[\"GramsPerServing_num\"] = pd.to_numeric(nutr[\"GramsPerServing\"], errors=\"coerce\")\n",
    "    unreal_grams = nutr[nutr[\"GramsPerServing_num\"] > 2000][[\"RecipeName\",\"ServingSize\",\"GramsPerServing\"]]\n",
    "    issues[\"grams_gt_2000\"] = unreal_grams"
   ]
  },
  {
   "cell_type": "code",
   "execution_count": 18,
   "id": "00b7cc94",
   "metadata": {},
   "outputs": [],
   "source": [
    "# 0 grams but positive nutrients\n",
    "if \"GramsPerServing\" in nutr.columns:\n",
    "    zero_g = pd.to_numeric(nutr[\"GramsPerServing\"], errors=\"coerce\").fillna(0) <= 0.1\n",
    "    pos_nutr = nutr[[\"Calories\",\"Protein\",\"Total Fat\",\"Total Carbohydrate\"]].apply(pd.to_numeric, errors=\"coerce\").fillna(0).sum(axis=1) > 0\n",
    "    impossible = nutr[zero_g & pos_nutr][[\"RecipeName\",\"ServingSize\",\"GramsPerServing\",\"Calories\",\"Protein\",\"Total Fat\",\"Total Carbohydrate\"]]\n",
    "    issues[\"grams_zero_with_nutrients\"] = impossible\n"
   ]
  },
  {
   "cell_type": "code",
   "execution_count": 21,
   "id": "91ccea78",
   "metadata": {},
   "outputs": [],
   "source": [
    "# Duplicate recipe names with differing nutrients\n",
    "dups = nutr[nutr.duplicated(subset=[\"RecipeName\"], keep=False)].sort_values(\"RecipeName\")\n",
    "issues[\"duplicate_recipe_names\"] = dups[[\"RecipeName\",\"ServingSize\",\"GramsPerServing\",\"Calories\",\"Protein\",\"Total Fat\",\"Total Sugars\"]]\n"
   ]
  },
  {
   "cell_type": "code",
   "execution_count": 22,
   "id": "058639bc",
   "metadata": {},
   "outputs": [
    {
     "name": "stdout",
     "output_type": "stream",
     "text": [
      "Issues written to: /Users/sirishag/Documents/fall-2025-group8/src/data/eda_outputs\n"
     ]
    }
   ],
   "source": [
    "# Save issues\n",
    "for name, df_ in issues.items():\n",
    "    outp = Path(OUT_DIR)/f\"issue_{name}.csv\"\n",
    "    if isinstance(df_, pd.Series):\n",
    "        df_.to_csv(outp, header=True)\n",
    "    else:\n",
    "        df_.to_csv(outp, index=False)\n",
    "\n",
    "print(\"Issues written to:\", OUT_DIR)"
   ]
  },
  {
   "cell_type": "markdown",
   "id": "ddd63b93",
   "metadata": {},
   "source": [
    "Builds a demo table showing:\n",
    "\n",
    "Generic sales item (e.g., “CEREAL”)\n",
    "Example mapped recipes\n",
    "Median Calories, Protein, Sugar\n",
    "\n",
    "Justifies why median aggregation is sensible.\n",
    "\n",
    "Saved as generic_median_demo.csv."
   ]
  },
  {
   "cell_type": "code",
   "execution_count": 25,
   "id": "90b22abb",
   "metadata": {},
   "outputs": [
    {
     "name": "stdout",
     "output_type": "stream",
     "text": [
      "\n",
      "Saved: /Users/sirishag/Documents/fall-2025-group8/src/data/eda_outputs/generic_median_demo.csv\n"
     ]
    }
   ],
   "source": [
    "# ---------- PART D: Median proposal demo (table you can paste) ----------\n",
    "def median_row(df, top_cols=(\"Calories\",\"Protein\",\"Total Sugars\")):\n",
    "    out = {}\n",
    "    for c in top_cols:\n",
    "        if c in df.columns:\n",
    "            out[c] = float(pd.to_numeric(df[c], errors=\"coerce\").median(skipna=True))\n",
    "    return out\n",
    "\n",
    "demo_rows = []\n",
    "for key in [\"cereal\",\"bagel\",\"milk\",\"juice\",\"parfait\"]:\n",
    "    recs = nutr[nutr[\"_cat\"].apply(lambda s: key in s if isinstance(s,set) else False)].copy()\n",
    "    if recs.empty: continue\n",
    "    names = recs[\"RecipeName\"].head(5).tolist()\n",
    "    med   = median_row(recs, (\"Calories\",\"Protein\",\"Total Sugars\"))\n",
    "    demo_rows.append({\n",
    "        \"sales_item_generic\": key.upper(),\n",
    "        \"mapped_items_examples\": \", \".join(names[:3]),\n",
    "        **med\n",
    "    })\n",
    "median_demo = pd.DataFrame(demo_rows)\n",
    "median_demo.to_csv(Path(OUT_DIR)/\"generic_median_demo.csv\", index=False)\n",
    "print(\"\\nSaved:\", Path(OUT_DIR)/\"generic_median_demo.csv\")"
   ]
  },
  {
   "cell_type": "code",
   "execution_count": 26,
   "id": "029c5fb0",
   "metadata": {},
   "outputs": [],
   "source": [
    "# ---------- PART E: One-page, copy-friendly summaries ----------\n",
    "# 1) Headline counts\n",
    "pd.DataFrame([summary]).to_csv(Path(OUT_DIR)/\"00_headline_counts.csv\", index=False)\n"
   ]
  },
  {
   "cell_type": "code",
   "execution_count": 27,
   "id": "6761ead1",
   "metadata": {},
   "outputs": [
    {
     "name": "stdout",
     "output_type": "stream",
     "text": [
      "\n",
      "✅ EDA + Cleaning outputs written to: /Users/sirishag/Documents/fall-2025-group8/src/data/eda_outputs\n",
      "Files:\n",
      " - 00_headline_counts.csv\n",
      " - 01_clean_groups_snapshot.csv\n",
      " - 02_ambiguous_notes.csv\n",
      " - 03_missing_snapshot.csv\n",
      " - generic_groups_stats.csv\n",
      " - generic_median_demo.csv\n",
      " - issue_duplicate_recipe_names.csv\n",
      " - issue_grams_gt_2000.csv\n",
      " - issue_grams_zero_with_nutrients.csv\n",
      " - issue_missing_counts.csv\n",
      " - recipes_bagel.csv\n",
      " - recipes_cereal.csv\n",
      " - recipes_juice.csv\n",
      " - recipes_milk.csv\n",
      " - recipes_parfait.csv\n",
      " - sales_items_with_cats.csv\n",
      " - summary_counts.csv\n",
      " - top_sales_items.csv\n"
     ]
    }
   ],
   "source": [
    "# 2) Clean vs Ambiguous vs Missing snapshot\n",
    "def pct(x, n): \n",
    "    return f\"{x} ({(x/max(n,1))*100:.1f}%)\"\n",
    "clean_groups = stats_tbl[stats_tbl[\"group\"].isin([g.upper() for g in GENERIC_SALES_KEYS])]\n",
    "clean_snapshot = clean_groups.groupby(\"group\")[\"metric\"].count().reset_index(name=\"metrics_covered\")\n",
    "clean_snapshot.to_csv(Path(OUT_DIR)/\"01_clean_groups_snapshot.csv\", index=False)\n",
    "\n",
    "ambiguous_note = pd.DataFrame({\n",
    "    \"note\":[\n",
    "        \"Bagel categories have wider nutrient spread if with cream cheese vs plain.\",\n",
    "        \"Parfaits vary by toppings; treat allergens separately.\",\n",
    "        \"Sandwiches/entrees vary widely by recipe; do not median indiscriminately.\"\n",
    "    ]\n",
    "})\n",
    "ambiguous_note.to_csv(Path(OUT_DIR)/\"02_ambiguous_notes.csv\", index=False)\n",
    "\n",
    "missing_snapshot = miss.reset_index()\n",
    "missing_snapshot.columns = [\"nutrient\",\"missing_count\"]\n",
    "missing_snapshot.to_csv(Path(OUT_DIR)/\"03_missing_snapshot.csv\", index=False)\n",
    "\n",
    "print(\"\\n✅ EDA + Cleaning outputs written to:\", OUT_DIR)\n",
    "print(\"Files:\")\n",
    "for p in sorted(Path(OUT_DIR).glob(\"*.csv\")):\n",
    "    print(\" -\", p.name)"
   ]
  },
  {
   "cell_type": "markdown",
   "id": "0c65caaa",
   "metadata": {},
   "source": [
    "00_headline_counts.csv → unique sales vs. recipes.\n",
    "\n",
    "01_clean_groups_snapshot.csv → clean groups like cereal/milk.\n",
    "\n",
    "02_ambiguous_notes.csv → text notes on bagels, parfaits, etc.\n",
    "\n",
    "03_missing_snapshot.csv → nutrients missing counts."
   ]
  }
 ],
 "metadata": {
  "kernelspec": {
   "display_name": ".venv",
   "language": "python",
   "name": "python3"
  },
  "language_info": {
   "codemirror_mode": {
    "name": "ipython",
    "version": 3
   },
   "file_extension": ".py",
   "mimetype": "text/x-python",
   "name": "python",
   "nbconvert_exporter": "python",
   "pygments_lexer": "ipython3",
   "version": "3.13.5"
  }
 },
 "nbformat": 4,
 "nbformat_minor": 5
}
